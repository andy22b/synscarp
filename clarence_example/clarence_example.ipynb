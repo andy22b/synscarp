{
 "cells": [
  {
   "cell_type": "markdown",
   "id": "9e3e3b84",
   "metadata": {},
   "source": [
    "Import modules requires for running"
   ]
  },
  {
   "cell_type": "code",
   "execution_count": 1,
   "id": "80b0fd4c",
   "metadata": {},
   "outputs": [],
   "source": [
    "import geopandas as gpd\n",
    "from synthetic_offsets.dem import deform_dem\n",
    "from synthetic_offsets.fault import Fault"
   ]
  },
  {
   "cell_type": "markdown",
   "id": "41e38787",
   "metadata": {},
   "source": [
    "Supply names of DEM, fault trace shapefile (both NZTM) and fault source parameters"
   ]
  },
  {
   "cell_type": "code",
   "execution_count": 2,
   "id": "e768e1f3",
   "metadata": {},
   "outputs": [
    {
     "name": "stdout",
     "output_type": "stream",
     "text": [
      "Initializing Fault object...\n",
      "Dip direction (azimuth is 270.00)\n",
      "Change by overriding or using flip_dip_direction option...\n"
     ]
    }
   ],
   "source": [
    "dem = \"clarence2012.tif\"\n",
    "trace = \"simplified_papatea.shp\"\n",
    "\n",
    "fault = Fault(trace=trace, dip=60., boundary=dem, slip=10., rake=45., dip_direction=270.)"
   ]
  },
  {
   "cell_type": "markdown",
   "id": "0884ad96",
   "metadata": {},
   "source": [
    "Create deformed DEM (may throw up a warning but should still run)"
   ]
  },
  {
   "cell_type": "code",
   "execution_count": 3,
   "id": "42539f31",
   "metadata": {},
   "outputs": [
    {
     "name": "stderr",
     "output_type": "stream",
     "text": [
      "/home/UOCNT/arh128/anaconda3/envs/synthetic-offsets/lib/python3.8/site-packages/rioxarray/raster_writer.py:108: UserWarning: The nodata value (3.402823466e+38) has been automatically changed to (3.4028234663852886e+38) to match the dtype of the data.\n",
      "  warnings.warn(\n"
     ]
    }
   ],
   "source": [
    "hw, fw = fault.footwall_and_hangingwall_polygons(fault.clipped_trace)\n",
    "e, n, u = fault.slip_and_rake\n",
    "hw_shifted, clipped_fw = fault.moved_footwall_hangingwall_polygons(fault.clipped_trace, x_shift=e, y_shift=n)\n",
    "holes = gpd.GeoSeries(hw.difference(hw_shifted), crs=2193)\n",
    "deform_dem(dem, out_tif=\"papatea_scarp.tif\", hw_shifted, clipped_fw, holes, e, n, u)"
   ]
  },
  {
   "cell_type": "code",
   "execution_count": null,
   "id": "b6bb6f60",
   "metadata": {},
   "outputs": [],
   "source": []
  }
 ],
 "metadata": {
  "kernelspec": {
   "display_name": "Python 3 (ipykernel)",
   "language": "python",
   "name": "python3"
  },
  "language_info": {
   "codemirror_mode": {
    "name": "ipython",
    "version": 3
   },
   "file_extension": ".py",
   "mimetype": "text/x-python",
   "name": "python",
   "nbconvert_exporter": "python",
   "pygments_lexer": "ipython3",
   "version": "3.8.10"
  }
 },
 "nbformat": 4,
 "nbformat_minor": 5
}
